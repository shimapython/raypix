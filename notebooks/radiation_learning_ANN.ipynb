{
 "cells": [
  {
   "cell_type": "code",
   "execution_count": 4,
   "metadata": {},
   "outputs": [],
   "source": [
    "import numpy as np\n",
    "import pandas as pd\n",
    "import tensorflow as tf\n",
    "from sklearn.model_selection import train_test_split\n",
    "from sklearn.metrics import accuracy_score\n",
    "import matplotlib.pyplot as plt\n",
    "from sklearn.metrics import r2_score\n",
    "from tensorflow.keras import optimizers\n",
    "from keras import models\n",
    "from keras import layers\n",
    "import tensorflow as tf\n",
    "from keras import Sequential\n",
    "from sklearn.metrics import log_loss\n",
    "\n",
    "\n",
    "df = pd.read_excel (r'./feed_matrix.xlsx')\n",
    "data = np.array(df)\n",
    "feed = data[:,:47]\n",
    "target = data[:,52]\n",
    "non_dim_input = (feed - np.min(feed,axis = 0))/(np.max(feed , axis = 0) - np.min(feed , axis = 0))\n",
    "\n",
    "def sigmoid_basic (x):\n",
    "    return  1/(1+np.exp(-x))\n",
    "def sigmoid (x , slope=10):\n",
    "    return sigmoid_basic (slope*(x-0.5))\n",
    "\n",
    "non_dim_target = sigmoid(target  , 70)\n",
    "\n",
    "non_dim_input[:,:3] = feed[:,:3]\n"
   ]
  },
  {
   "cell_type": "code",
   "execution_count": 1,
   "metadata": {
    "scrolled": true
   },
   "outputs": [],
   "source": [
    "x = np.linspace(0,1,100)\n",
    "plt.plot(x , sigmoid(x,50))"
   ]
  },
  {
   "cell_type": "code",
   "execution_count": 779,
   "metadata": {},
   "outputs": [
    {
     "name": "stdout",
     "output_type": "stream",
     "text": [
      "Shape of x_tr: (18860, 47)\n",
      "Shape of y_tr: (18860,)\n",
      "Shape of x_val: (2572, 47)\n",
      "Shape of y_val: (2572,)\n",
      "Shape of x_test: (3783, 47)\n",
      "Shape of y_test: (3783,)\n",
      "Epoch 1/70\n",
      "590/590 [==============================] - 3s 4ms/step - loss: 0.1663 - mse: 0.1663 - val_loss: 0.1630 - val_mse: 0.1630\n",
      "Epoch 2/70\n",
      "590/590 [==============================] - 2s 4ms/step - loss: 0.1566 - mse: 0.1566 - val_loss: 0.1514 - val_mse: 0.1514\n",
      "Epoch 3/70\n",
      "590/590 [==============================] - 2s 4ms/step - loss: 0.1458 - mse: 0.1458 - val_loss: 0.1427 - val_mse: 0.1427\n",
      "Epoch 4/70\n",
      "590/590 [==============================] - 2s 3ms/step - loss: 0.1403 - mse: 0.1403 - val_loss: 0.1395 - val_mse: 0.1395\n",
      "Epoch 5/70\n",
      "590/590 [==============================] - 2s 4ms/step - loss: 0.1383 - mse: 0.1383 - val_loss: 0.1387 - val_mse: 0.1387\n",
      "Epoch 6/70\n",
      "590/590 [==============================] - 3s 4ms/step - loss: 0.1370 - mse: 0.1370 - val_loss: 0.1380 - val_mse: 0.1380\n",
      "Epoch 7/70\n",
      "590/590 [==============================] - 3s 4ms/step - loss: 0.1363 - mse: 0.1363 - val_loss: 0.1388 - val_mse: 0.1388\n",
      "Epoch 8/70\n",
      "590/590 [==============================] - 2s 4ms/step - loss: 0.1358 - mse: 0.1358 - val_loss: 0.1375 - val_mse: 0.1375\n",
      "Epoch 9/70\n",
      "590/590 [==============================] - 2s 3ms/step - loss: 0.1358 - mse: 0.1358 - val_loss: 0.1358 - val_mse: 0.1358\n",
      "Epoch 10/70\n",
      "590/590 [==============================] - 2s 4ms/step - loss: 0.1354 - mse: 0.1354 - val_loss: 0.1402 - val_mse: 0.1402\n",
      "Epoch 11/70\n",
      "590/590 [==============================] - 2s 4ms/step - loss: 0.1354 - mse: 0.1354 - val_loss: 0.1357 - val_mse: 0.1357\n",
      "Epoch 12/70\n",
      "590/590 [==============================] - 2s 4ms/step - loss: 0.1349 - mse: 0.1349 - val_loss: 0.1377 - val_mse: 0.1377\n",
      "Epoch 13/70\n",
      "590/590 [==============================] - 2s 4ms/step - loss: 0.1345 - mse: 0.1345 - val_loss: 0.1366 - val_mse: 0.1366\n",
      "Epoch 14/70\n",
      "590/590 [==============================] - 2s 4ms/step - loss: 0.1347 - mse: 0.1347 - val_loss: 0.1358 - val_mse: 0.1358\n",
      "Epoch 15/70\n",
      "590/590 [==============================] - 2s 3ms/step - loss: 0.1345 - mse: 0.1345 - val_loss: 0.1351 - val_mse: 0.1351\n",
      "Epoch 16/70\n",
      "590/590 [==============================] - 2s 3ms/step - loss: 0.1345 - mse: 0.1345 - val_loss: 0.1390 - val_mse: 0.1390\n",
      "Epoch 17/70\n",
      "590/590 [==============================] - 2s 4ms/step - loss: 0.1344 - mse: 0.1344 - val_loss: 0.1367 - val_mse: 0.1367\n",
      "Epoch 18/70\n",
      "590/590 [==============================] - 2s 3ms/step - loss: 0.1342 - mse: 0.1342 - val_loss: 0.1370 - val_mse: 0.1370\n",
      "Epoch 19/70\n",
      "590/590 [==============================] - 2s 3ms/step - loss: 0.1339 - mse: 0.1339 - val_loss: 0.1372 - val_mse: 0.1372\n",
      "Epoch 20/70\n",
      "590/590 [==============================] - 2s 4ms/step - loss: 0.1341 - mse: 0.1341 - val_loss: 0.1346 - val_mse: 0.1346\n",
      "Epoch 21/70\n",
      "590/590 [==============================] - 2s 3ms/step - loss: 0.1338 - mse: 0.1338 - val_loss: 0.1353 - val_mse: 0.1353\n",
      "Epoch 22/70\n",
      "590/590 [==============================] - 2s 4ms/step - loss: 0.1338 - mse: 0.1338 - val_loss: 0.1349 - val_mse: 0.1349\n",
      "Epoch 23/70\n",
      "590/590 [==============================] - 2s 3ms/step - loss: 0.1336 - mse: 0.1336 - val_loss: 0.1349 - val_mse: 0.1349\n",
      "Epoch 24/70\n",
      "590/590 [==============================] - 2s 4ms/step - loss: 0.1340 - mse: 0.1340 - val_loss: 0.1354 - val_mse: 0.1354\n",
      "Epoch 25/70\n",
      "590/590 [==============================] - 2s 3ms/step - loss: 0.1337 - mse: 0.1337 - val_loss: 0.1348 - val_mse: 0.1348\n",
      "Epoch 26/70\n",
      "590/590 [==============================] - 2s 3ms/step - loss: 0.1335 - mse: 0.1335 - val_loss: 0.1343 - val_mse: 0.1343\n",
      "Epoch 27/70\n",
      "590/590 [==============================] - 2s 3ms/step - loss: 0.1335 - mse: 0.1335 - val_loss: 0.1343 - val_mse: 0.1343\n",
      "Epoch 28/70\n",
      "590/590 [==============================] - 2s 3ms/step - loss: 0.1333 - mse: 0.1333 - val_loss: 0.1343 - val_mse: 0.1343\n",
      "Epoch 29/70\n",
      "590/590 [==============================] - 2s 4ms/step - loss: 0.1334 - mse: 0.1334 - val_loss: 0.1354 - val_mse: 0.1354\n",
      "Epoch 30/70\n",
      "590/590 [==============================] - 2s 3ms/step - loss: 0.1335 - mse: 0.1335 - val_loss: 0.1346 - val_mse: 0.1346\n",
      "Epoch 31/70\n",
      "590/590 [==============================] - 2s 3ms/step - loss: 0.1336 - mse: 0.1336 - val_loss: 0.1362 - val_mse: 0.1362\n",
      "Epoch 32/70\n",
      "590/590 [==============================] - 2s 3ms/step - loss: 0.1331 - mse: 0.1331 - val_loss: 0.1357 - val_mse: 0.1357\n",
      "Epoch 33/70\n",
      "590/590 [==============================] - 2s 3ms/step - loss: 0.1332 - mse: 0.1332 - val_loss: 0.1344 - val_mse: 0.1344\n",
      "Epoch 34/70\n",
      "590/590 [==============================] - 2s 4ms/step - loss: 0.1334 - mse: 0.1334 - val_loss: 0.1347 - val_mse: 0.1347\n",
      "Epoch 35/70\n",
      "590/590 [==============================] - 2s 4ms/step - loss: 0.1332 - mse: 0.1332 - val_loss: 0.1356 - val_mse: 0.1356\n",
      "Epoch 36/70\n",
      "590/590 [==============================] - 2s 4ms/step - loss: 0.1334 - mse: 0.1334 - val_loss: 0.1343 - val_mse: 0.1343\n",
      "Epoch 37/70\n",
      "590/590 [==============================] - 2s 4ms/step - loss: 0.1332 - mse: 0.1332 - val_loss: 0.1354 - val_mse: 0.1354\n",
      "Epoch 38/70\n",
      "590/590 [==============================] - 2s 4ms/step - loss: 0.1330 - mse: 0.1330 - val_loss: 0.1354 - val_mse: 0.1354\n",
      "Epoch 39/70\n",
      "590/590 [==============================] - 2s 4ms/step - loss: 0.1331 - mse: 0.1331 - val_loss: 0.1341 - val_mse: 0.1341\n",
      "Epoch 40/70\n",
      "590/590 [==============================] - 2s 4ms/step - loss: 0.1330 - mse: 0.1330 - val_loss: 0.1341 - val_mse: 0.1341\n",
      "Epoch 41/70\n",
      "590/590 [==============================] - 2s 4ms/step - loss: 0.1331 - mse: 0.1331 - val_loss: 0.1344 - val_mse: 0.1344\n",
      "Epoch 42/70\n",
      "590/590 [==============================] - 2s 4ms/step - loss: 0.1331 - mse: 0.1331 - val_loss: 0.1343 - val_mse: 0.1343\n",
      "Epoch 43/70\n",
      "590/590 [==============================] - 2s 4ms/step - loss: 0.1331 - mse: 0.1331 - val_loss: 0.1351 - val_mse: 0.1351\n",
      "Epoch 44/70\n",
      "590/590 [==============================] - 2s 4ms/step - loss: 0.1331 - mse: 0.1331 - val_loss: 0.1347 - val_mse: 0.1347\n",
      "Epoch 45/70\n",
      "590/590 [==============================] - 2s 4ms/step - loss: 0.1331 - mse: 0.1331 - val_loss: 0.1340 - val_mse: 0.1340\n",
      "Epoch 46/70\n",
      "590/590 [==============================] - 2s 4ms/step - loss: 0.1332 - mse: 0.1332 - val_loss: 0.1344 - val_mse: 0.1344\n",
      "Epoch 47/70\n",
      "590/590 [==============================] - 2s 4ms/step - loss: 0.1329 - mse: 0.1329 - val_loss: 0.1342 - val_mse: 0.1342\n",
      "Epoch 48/70\n",
      "590/590 [==============================] - 2s 4ms/step - loss: 0.1328 - mse: 0.1328 - val_loss: 0.1353 - val_mse: 0.1353\n",
      "Epoch 49/70\n",
      "590/590 [==============================] - 2s 4ms/step - loss: 0.1328 - mse: 0.1328 - val_loss: 0.1344 - val_mse: 0.1344\n",
      "Epoch 50/70\n",
      "590/590 [==============================] - 2s 4ms/step - loss: 0.1331 - mse: 0.1331 - val_loss: 0.1353 - val_mse: 0.1353\n",
      "Epoch 51/70\n",
      "590/590 [==============================] - 3s 4ms/step - loss: 0.1329 - mse: 0.1329 - val_loss: 0.1357 - val_mse: 0.1357\n",
      "Epoch 52/70\n",
      "590/590 [==============================] - 2s 4ms/step - loss: 0.1329 - mse: 0.1329 - val_loss: 0.1350 - val_mse: 0.1350\n",
      "Epoch 53/70\n",
      "590/590 [==============================] - 2s 4ms/step - loss: 0.1327 - mse: 0.1327 - val_loss: 0.1342 - val_mse: 0.1342\n",
      "Epoch 54/70\n",
      "590/590 [==============================] - 2s 3ms/step - loss: 0.1329 - mse: 0.1329 - val_loss: 0.1352 - val_mse: 0.1352\n",
      "Epoch 55/70\n",
      "590/590 [==============================] - 2s 4ms/step - loss: 0.1328 - mse: 0.1328 - val_loss: 0.1346 - val_mse: 0.1346\n",
      "Epoch 56/70\n",
      "590/590 [==============================] - 2s 4ms/step - loss: 0.1330 - mse: 0.1330 - val_loss: 0.1342 - val_mse: 0.1342\n",
      "Epoch 57/70\n",
      "590/590 [==============================] - 2s 3ms/step - loss: 0.1327 - mse: 0.1327 - val_loss: 0.1344 - val_mse: 0.1344\n",
      "Epoch 58/70\n",
      "590/590 [==============================] - 2s 4ms/step - loss: 0.1330 - mse: 0.1330 - val_loss: 0.1344 - val_mse: 0.1344\n",
      "Epoch 59/70\n",
      "590/590 [==============================] - 2s 4ms/step - loss: 0.1327 - mse: 0.1327 - val_loss: 0.1351 - val_mse: 0.1351\n",
      "Epoch 60/70\n",
      "590/590 [==============================] - 2s 4ms/step - loss: 0.1328 - mse: 0.1328 - val_loss: 0.1341 - val_mse: 0.1341\n",
      "Epoch 61/70\n",
      "590/590 [==============================] - 2s 4ms/step - loss: 0.1330 - mse: 0.1330 - val_loss: 0.1355 - val_mse: 0.1355\n",
      "Epoch 62/70\n",
      "590/590 [==============================] - 2s 4ms/step - loss: 0.1327 - mse: 0.1327 - val_loss: 0.1343 - val_mse: 0.1343\n",
      "Epoch 63/70\n",
      "590/590 [==============================] - 2s 3ms/step - loss: 0.1328 - mse: 0.1328 - val_loss: 0.1342 - val_mse: 0.1342\n",
      "Epoch 64/70\n",
      "590/590 [==============================] - 2s 4ms/step - loss: 0.1327 - mse: 0.1327 - val_loss: 0.1345 - val_mse: 0.1345\n",
      "Epoch 65/70\n",
      "590/590 [==============================] - 2s 3ms/step - loss: 0.1328 - mse: 0.1328 - val_loss: 0.1347 - val_mse: 0.1347\n",
      "Epoch 66/70\n",
      "590/590 [==============================] - 2s 3ms/step - loss: 0.1327 - mse: 0.1327 - val_loss: 0.1344 - val_mse: 0.1344\n",
      "Epoch 67/70\n",
      "590/590 [==============================] - 2s 3ms/step - loss: 0.1327 - mse: 0.1327 - val_loss: 0.1357 - val_mse: 0.1357\n",
      "Epoch 68/70\n",
      "590/590 [==============================] - 2s 4ms/step - loss: 0.1328 - mse: 0.1328 - val_loss: 0.1342 - val_mse: 0.1342\n",
      "Epoch 69/70\n",
      "590/590 [==============================] - 2s 3ms/step - loss: 0.1327 - mse: 0.1327 - val_loss: 0.1345 - val_mse: 0.1345\n",
      "Epoch 70/70\n",
      "590/590 [==============================] - 2s 3ms/step - loss: 0.1326 - mse: 0.1326 - val_loss: 0.1343 - val_mse: 0.1343\n"
     ]
    }
   ],
   "source": [
    "XX_train, X_test, yy_train, y_test = train_test_split( \n",
    "non_dim_input, non_dim_target, test_size = 0.15, random_state = 10)\n",
    "\n",
    "train_number = np.size(XX_train , axis = 0)\n",
    "validation = 0.12\n",
    "X_train = XX_train[:np.round((1-validation)*train_number).astype(int),:]\n",
    "y_train = yy_train[:np.round((1-validation)*train_number).astype(int)]\n",
    "X_val = XX_train[np.round((1-validation)*train_number).astype(int):,:]\n",
    "y_val = yy_train[np.round((1-validation)*train_number).astype(int):]\n",
    "\n",
    "\n",
    "print('Shape of x_tr: ' + str(X_train.shape))\n",
    "print('Shape of y_tr: ' + str(y_train.shape))\n",
    "print('Shape of x_val: ' + str(X_val.shape))\n",
    "print('Shape of y_val: ' + str(y_val.shape))\n",
    "print('Shape of x_test: ' + str(X_test.shape))\n",
    "print('Shape of y_test: ' + str(y_test.shape))\n",
    "\n",
    "\n",
    "model = models.Sequential()\n",
    "model.add(tf.keras.layers.Dense(units=17,activation=\"tanh\"))\n",
    "model.add(tf.keras.layers.Dense(units=15,activation=\"tanh\"))\n",
    "model.add(tf.keras.layers.Dense(units=1,activation=\"tanh\"))\n",
    "model.compile(optimizers.Adam(learning_rate=0.001), loss='mean_squared_error', metrics=['mse'])\n",
    "history = model.fit(X_train, y_train, validation_data=(X_val, y_val), epochs=70)#, batch_size=10)\n"
   ]
  },
  {
   "cell_type": "code",
   "execution_count": 780,
   "metadata": {},
   "outputs": [
    {
     "data": {
      "text/plain": [
       "[<matplotlib.lines.Line2D at 0x1842878b280>]"
      ]
     },
     "execution_count": 780,
     "metadata": {},
     "output_type": "execute_result"
    },
    {
     "data": {
      "image/png": "[encoded data removed]",
      "text/plain": [
       "<Figure size 432x288 with 1 Axes>"
      ]
     },
     "metadata": {
      "needs_background": "light"
     },
     "output_type": "display_data"
    }
   ],
   "source": [
    "precision_train = model.predict(X_train, verbose=0)\n",
    "real_precision_train = precision_train*(np.max(target , axis = 0) - np.min(target , axis = 0))+ np.min(target,axis = 0)\n",
    "real_y_train = y_train*(np.max(target , axis = 0) - np.min(target , axis = 0))+ np.min(target,axis = 0)\n",
    "real_comp_train = np.hstack((real_precision_train.reshape(-1,1),real_y_train.reshape(-1,1)))\n",
    "#plt.scatter(np.arange(len(y_train)),comp_train[:,0], c ='blue', marker='x')\n",
    "#plt.scatter(np.arange(len(y_train)),comp_train[:,1], c ='red', marker='+')\n",
    "error_train = (np.sort(np.abs((real_comp_train[:,0] - real_comp_train[:,1])/real_comp_train[:,0])*100))\n",
    "#error_train = ((np.abs((real_comp_train[:,0] - real_comp_train[:,1])/real_comp_train[:,0])*100))\n",
    "\n",
    "plt.plot(np.arange(len(error_train)),error_train, c ='red')\n",
    "\n"
   ]
  },
  {
   "cell_type": "code",
   "execution_count": 6,
   "metadata": {},
   "outputs": [],
   "source": [
    "precision_val = model.predict(X_val, verbose=0)\n",
    "real_precision_val = precision_val*(np.max(target , axis = 0) - np.min(target , axis = 0))+ np.min(target,axis = 0)\n",
    "real_y_val = y_val*(np.max(target , axis = 0) - np.min(target , axis = 0))+ np.min(target,axis = 0)\n",
    "real_comp_val = np.hstack((real_precision_val.reshape(-1,1),real_y_val.reshape(-1,1)))\n",
    "#plt.scatter(np.arange(len(y_train)),comp_train[:,0], c ='blue', marker='x')\n",
    "#plt.scatter(np.arange(len(y_train)),comp_train[:,1], c ='red', marker='+')\n",
    "error_val = (np.sort(np.abs((real_comp_val[:,0] - real_comp_val[:,1])/real_comp_val[:,0])*100))\n",
    "plt.plot(np.arange(len(error_val)),error_val, c ='red')\n"
   ]
  },
  {
   "cell_type": "code",
   "execution_count": 7,
   "metadata": {},
   "outputs": [],
   "source": [
    "\n",
    "precision_test = model.predict(X_test, verbose=0)\n",
    "real_precision_test = precision_test*(np.max(target , axis = 0) - np.min(target , axis = 0))+ np.min(target,axis = 0)\n",
    "real_y_test = y_test\n",
    "\n",
    "dreal_comp_test = np.hstack((real_precision_test.reshape(-1,1),real_y_test.reshape(-1,1)))\n",
    "error_test = (np.sort(np.abs((real_comp_test[:,0] - real_comp_test[:,1])/real_comp_test[:,0])*100))\n",
    "diff_test = (np.sort(np.abs((real_comp_test[:,0] - real_comp_test[:,1]))))\n",
    "plt.plot(np.arange(len(error_test)),error_test, c ='red')\n"
   ]
  },
  {
   "cell_type": "code",
   "execution_count": 559,
   "metadata": {},
   "outputs": [
    {
     "data": {
      "text/plain": [
       "array([[0.04808411, 0.        ],\n",
       "       [0.06021276, 0.        ],\n",
       "       [0.98607916, 0.99767958],\n",
       "       ...,\n",
       "       [0.31576434, 0.        ],\n",
       "       [0.28000358, 0.        ],\n",
       "       [0.61877137, 0.20606024]])"
      ]
     },
     "execution_count": 559,
     "metadata": {},
     "output_type": "execute_result"
    }
   ],
   "source": [
    "real_comp_test"
   ]
  },
  {
   "cell_type": "code",
   "execution_count": 591,
   "metadata": {},
   "outputs": [
    {
     "data": {
      "image/png": "[encoded data removed]",
      "text/plain": [
       "<Figure size 432x288 with 1 Axes>"
      ]
     },
     "metadata": {
      "needs_background": "light"
     },
     "output_type": "display_data"
    }
   ],
   "source": [
    "plt.subplot(211)\n",
    "plt.title('Loss')\n",
    "plt.plot(history.history['loss'], label='train')\n",
    "plt.plot(history.history['val_loss'], label='test')\n",
    "plt.title('model loss')\n",
    "plt.ylabel('loss')\n",
    "plt.xlabel('epoch')\n",
    "plt.legend(['train', 'test'], loc='upper left')\n",
    "plt.show()"
   ]
  },
  {
   "cell_type": "code",
   "execution_count": 783,
   "metadata": {},
   "outputs": [
    {
     "data": {
      "text/plain": [
       "<matplotlib.collections.PathCollection at 0x183db0193a0>"
      ]
     },
     "execution_count": 783,
     "metadata": {},
     "output_type": "execute_result"
    },
    {
     "data": {
      "image/png": "[encoded data removed]",
      "text/plain": [
       "<Figure size 432x288 with 1 Axes>"
      ]
     },
     "metadata": {
      "needs_background": "light"
     },
     "output_type": "display_data"
    }
   ],
   "source": [
    "plt.scatter(np.arange(len(real_y_test[:500])),real_y_test[:500], c ='red')\n",
    "plt.scatter(np.arange(len(real_precision_test[:500])),real_precision_test[:500], c ='blue')\n"
   ]
  },
  {
   "cell_type": "code",
   "execution_count": 592,
   "metadata": {},
   "outputs": [
    {
     "data": {
      "text/plain": [
       "0.23466282397014634"
      ]
     },
     "execution_count": 592,
     "metadata": {},
     "output_type": "execute_result"
    },
    {
     "data": {
      "image/png": "[encoded data removed]",
      "text/plain": [
       "<Figure size 432x288 with 1 Axes>"
      ]
     },
     "metadata": {
      "needs_background": "light"
     },
     "output_type": "display_data"
    }
   ],
   "source": [
    "error_test = (np.sort(np.abs((real_comp_test[:,0] - real_comp_test[:,1]))))\n",
    "\n",
    "plt.scatter(np.arange(len(error_test)),error_test, c ='red')\n",
    "np.mean(error_test)"
   ]
  },
  {
   "cell_type": "code",
   "execution_count": 483,
   "metadata": {},
   "outputs": [
    {
     "name": "stdout",
     "output_type": "stream",
     "text": [
      "0.999644011259109\n"
     ]
    },
    {
     "data": {
      "text/plain": [
       "(array([3782], dtype=int64),)"
      ]
     },
     "execution_count": 483,
     "metadata": {},
     "output_type": "execute_result"
    }
   ],
   "source": [
    "bish = np.max(error_test)\n",
    "print(bish)\n",
    "np.where(error_test==bish)"
   ]
  },
  {
   "cell_type": "code",
   "execution_count": 486,
   "metadata": {},
   "outputs": [
    {
     "data": {
      "text/plain": [
       "array([0.12245107, 0.04902554])"
      ]
     },
     "execution_count": 486,
     "metadata": {},
     "output_type": "execute_result"
    }
   ],
   "source": [
    "real_comp_test[3781,:]"
   ]
  },
  {
   "cell_type": "code",
   "execution_count": 494,
   "metadata": {},
   "outputs": [
    {
     "data": {
      "text/plain": [
       "[<matplotlib.lines.Line2D at 0x183d899acd0>]"
      ]
     },
     "execution_count": 494,
     "metadata": {},
     "output_type": "execute_result"
    },
    {
     "data": {
      "image/png": "[encoded data removed]",
      "text/plain": [
       "<Figure size 432x288 with 1 Axes>"
      ]
     },
     "metadata": {
      "needs_background": "light"
     },
     "output_type": "display_data"
    }
   ],
   "source": [
    "precision_train = model.predict(X_train, verbose=0)\n",
    "real_precision_train = precision_train\n",
    "real_y_train = y_train\n",
    "real_comp_train = np.hstack((real_precision_train.reshape(-1,1),real_y_train.reshape(-1,1)))\n",
    "error_train = (np.sort(np.abs((real_comp_train[:,0] - real_comp_train[:,1])/real_comp_train[:,0])*100))\n",
    "plt.plot(np.arange(len(error_train)),error_train, c ='red')\n",
    "\n"
   ]
  },
  {
   "cell_type": "code",
   "execution_count": 593,
   "metadata": {},
   "outputs": [
    {
     "data": {
      "text/plain": [
       "<matplotlib.collections.PathCollection at 0x183efed31c0>"
      ]
     },
     "execution_count": 593,
     "metadata": {},
     "output_type": "execute_result"
    },
    {
     "data": {
      "image/png": "[encoded data removed]",
      "text/plain": [
       "<Figure size 432x288 with 1 Axes>"
      ]
     },
     "metadata": {
      "needs_background": "light"
     },
     "output_type": "display_data"
    }
   ],
   "source": [
    "plt.scatter(np.arange(len(real_y_test)),real_y_test, c ='red')\n",
    "plt.scatter(np.arange(len(real_precision_test)),real_precision_test, c ='blue')\n"
   ]
  },
  {
   "cell_type": "code",
   "execution_count": 496,
   "metadata": {},
   "outputs": [
    {
     "data": {
      "text/plain": [
       "[<matplotlib.lines.Line2D at 0x183d89fe7c0>]"
      ]
     },
     "execution_count": 496,
     "metadata": {},
     "output_type": "execute_result"
    },
    {
     "data": {
      "image/png": "[encoded data removed]",
      "text/plain": [
       "<Figure size 432x288 with 1 Axes>"
      ]
     },
     "metadata": {
      "needs_background": "light"
     },
     "output_type": "display_data"
    }
   ],
   "source": [
    "precision_test = model.predict(X_test, verbose=0)\n",
    "real_precision_test = precision_test\n",
    "real_y_test = y_test\n",
    "#plt.scatter(np.arange(len(y_train)),comp_train[:,0], c ='blue', marker='x')\n",
    "#plt.scatter(np.arange(len(y_train)),comp_train[:,1], c ='red', marker='+')\n",
    "real_comp_test = np.hstack((real_precision_test.reshape(-1,1),real_y_test.reshape(-1,1)))\n",
    "error_test = (np.sort(np.abs((real_comp_test[:,0] - real_comp_test[:,1])/real_comp_test[:,0])*100))\n",
    "diff_test = (np.sort(np.abs((real_comp_test[:,0] - real_comp_test[:,1]))))\n",
    "plt.plot(np.arange(len(error_test)),error_test, c ='red')\n",
    "\n"
   ]
  },
  {
   "cell_type": "code",
   "execution_count": 594,
   "metadata": {},
   "outputs": [
    {
     "data": {
      "text/plain": [
       "(array([1.1631e+04, 1.1470e+03, 6.8400e+02, 4.9500e+02, 3.1400e+02,\n",
       "        9.4000e+01, 4.6000e+01, 7.0000e+00, 0.0000e+00, 4.1730e+03]),\n",
       " array([1.92418439e-20, 1.00000000e-01, 2.00000000e-01, 3.00000000e-01,\n",
       "        4.00000000e-01, 5.00000000e-01, 6.00000000e-01, 7.00000000e-01,\n",
       "        8.00000000e-01, 9.00000000e-01, 1.00000000e+00]),\n",
       " <BarContainer object of 10 artists>)"
      ]
     },
     "execution_count": 594,
     "metadata": {},
     "output_type": "execute_result"
    },
    {
     "data": {
      "image/png": "[encoded data removed]",
      "text/plain": [
       "<Figure size 432x288 with 1 Axes>"
      ]
     },
     "metadata": {
      "needs_background": "light"
     },
     "output_type": "display_data"
    }
   ],
   "source": [
    "plt.hist(target[feed[:,4] ==0])\n",
    "plt.hist(target[feed[:,4] >0])\n"
   ]
  },
  {
   "cell_type": "code",
   "execution_count": 534,
   "metadata": {},
   "outputs": [
    {
     "data": {
      "text/plain": [
       "-0.7695478510879421"
      ]
     },
     "execution_count": 534,
     "metadata": {},
     "output_type": "execute_result"
    }
   ],
   "source": [
    "r2_score(target,-feed[:,4])"
   ]
  },
  {
   "cell_type": "code",
   "execution_count": 540,
   "metadata": {},
   "outputs": [],
   "source": [
    "import scipy\n",
    "def corr (x,y):\n",
    "    return scipy.stats.pearsonr(x,y)[0]\n",
    "    "
   ]
  },
  {
   "cell_type": "code",
   "execution_count": 542,
   "metadata": {},
   "outputs": [
    {
     "data": {
      "text/plain": [
       "0.12766240441583102"
      ]
     },
     "execution_count": 542,
     "metadata": {},
     "output_type": "execute_result"
    }
   ],
   "source": [
    "(corr(target,-feed[:,4]))**2"
   ]
  },
  {
   "cell_type": "code",
   "execution_count": 571,
   "metadata": {},
   "outputs": [
    {
     "data": {
      "text/plain": [
       "0.4409121708344751"
      ]
     },
     "execution_count": 571,
     "metadata": {},
     "output_type": "execute_result"
    }
   ],
   "source": [
    "r2_score(real_comp_test[:,1] , real_comp_test[:,0]) "
   ]
  },
  {
   "cell_type": "code",
   "execution_count": 752,
   "metadata": {},
   "outputs": [
    {
     "data": {
      "text/plain": [
       "[<matplotlib.lines.Line2D at 0x183d87784c0>]"
      ]
     },
     "execution_count": 752,
     "metadata": {},
     "output_type": "execute_result"
    },
    {
     "data": {
      "image/png": "[encoded data removed]",
      "text/plain": [
       "<Figure size 432x288 with 1 Axes>"
      ]
     },
     "metadata": {
      "needs_background": "light"
     },
     "output_type": "display_data"
    }
   ],
   "source": [
    "plt.plot(np.sort(target))"
   ]
  },
  {
   "cell_type": "code",
   "execution_count": 564,
   "metadata": {},
   "outputs": [
    {
     "data": {
      "text/plain": [
       "(array([896., 500., 349., 528., 271., 358., 375., 140., 110., 256.]),\n",
       " array([0.01548023, 0.1135944 , 0.21170858, 0.30982274, 0.40793693,\n",
       "        0.5060511 , 0.60416526, 0.70227945, 0.80039364, 0.8985078 ,\n",
       "        0.99662197], dtype=float32),\n",
       " <BarContainer object of 10 artists>)"
      ]
     },
     "execution_count": 564,
     "metadata": {},
     "output_type": "execute_result"
    },
    {
     "data": {
      "image/png": "[encoded data removed]",
      "text/plain": [
       "<Figure size 432x288 with 1 Axes>"
      ]
     },
     "metadata": {
      "needs_background": "light"
     },
     "output_type": "display_data"
    }
   ],
   "source": [
    "plt.hist(real_precision_test)"
   ]
  },
  {
   "cell_type": "code",
   "execution_count": 751,
   "metadata": {},
   "outputs": [
    {
     "data": {
      "text/plain": [
       "(array([11892.,  1727.,  1167.,  1039.,   830.,   561.,   436.,   362.,\n",
       "          277.,  6924.]),\n",
       " array([1.92418439e-20, 1.00000000e-01, 2.00000000e-01, 3.00000000e-01,\n",
       "        4.00000000e-01, 5.00000000e-01, 6.00000000e-01, 7.00000000e-01,\n",
       "        8.00000000e-01, 9.00000000e-01, 1.00000000e+00]),\n",
       " <BarContainer object of 10 artists>)"
      ]
     },
     "execution_count": 751,
     "metadata": {},
     "output_type": "execute_result"
    },
    {
     "data": {
      "image/png": "[encoded data removed]",
      "text/plain": [
       "<Figure size 432x288 with 1 Axes>"
      ]
     },
     "metadata": {
      "needs_background": "light"
     },
     "output_type": "display_data"
    }
   ],
   "source": [
    "plt.hist(target)"
   ]
  },
  {
   "cell_type": "code",
   "execution_count": 674,
   "metadata": {},
   "outputs": [
    {
     "name": "stdout",
     "output_type": "stream",
     "text": [
      "0.0998722021283494\n",
      "0.1001310060258055\n"
     ]
    }
   ],
   "source": [
    "from sklearn.metrics import mean_squared_error\n",
    "print(mean_squared_error(real_y_test ,real_precision_test))\n",
    "print(mean_squared_error(real_y_train ,real_precision_train))\n"
   ]
  },
  {
   "cell_type": "code",
   "execution_count": 682,
   "metadata": {},
   "outputs": [],
   "source": [
    "y_true = real_y_train\n",
    "y_pred = real_precision_train[:,0]\n"
   ]
  },
  {
   "cell_type": "code",
   "execution_count": 715,
   "metadata": {},
   "outputs": [
    {
     "data": {
      "text/plain": [
       "0.43855277186538544"
      ]
     },
     "execution_count": 715,
     "metadata": {},
     "output_type": "execute_result"
    }
   ],
   "source": [
    "r2_score(y_true,y_pred)"
   ]
  }
 ],
 "metadata": {
  "kernelspec": {
   "display_name": "Python 3",
   "language": "python",
   "name": "python3"
  },
  "language_info": {
   "codemirror_mode": {
    "name": "ipython",
    "version": 3
   },
   "file_extension": ".py",
   "mimetype": "text/x-python",
   "name": "python",
   "nbconvert_exporter": "python",
   "pygments_lexer": "ipython3",
   "version": "3.7.6"
  }
 },
 "nbformat": 4,
 "nbformat_minor": 5
}
